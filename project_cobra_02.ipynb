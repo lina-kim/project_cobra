{
 "cells": [
  {
   "cell_type": "markdown",
   "metadata": {},
   "source": [
    "# Project COBRA\n",
    "\n",
    "`Mission 02: 27 JUN 2019`\n",
    "\n",
    "_**Topics**_: Data structures, introductory `pandas`, loops and control"
   ]
  },
  {
   "cell_type": "markdown",
   "metadata": {},
   "source": [
    "## Programming concepts"
   ]
  },
  {
   "cell_type": "markdown",
   "metadata": {},
   "source": [
    "1. Data structures, part I\n",
    "   * Lists, with [documentation](https://docs.python.org/2.7/tutorial/datastructures.html#more-on-lists) and exercises below\n",
    "   * Tuples\n",
    "   * _Dictionaries, with [documentation](https://docs.python.org/2.7/library/stdtypes.html#mapping-types-dict) and exercises below_ - part of part II at a later time"
   ]
  },
  {
   "cell_type": "markdown",
   "metadata": {},
   "source": [
    "## Practice"
   ]
  },
  {
   "cell_type": "markdown",
   "metadata": {},
   "source": [
    "## Programming concepts"
   ]
  },
  {
   "cell_type": "markdown",
   "metadata": {},
   "source": [
    "2. Intro to `pandas`\n",
    "   * Reading in a CSV file\n",
    "   * Manipulating tables"
   ]
  },
  {
   "cell_type": "markdown",
   "metadata": {},
   "source": [
    "## Programming concepts"
   ]
  },
  {
   "cell_type": "markdown",
   "metadata": {},
   "source": [
    "3. Loops and control\n",
    "   * `for`, with exercises below\n",
    "   * `while`\n",
    "   * `if`-`else`, with exercises below"
   ]
  }
 ],
 "metadata": {
  "kernelspec": {
   "display_name": "Python 2",
   "language": "python",
   "name": "python2"
  },
  "language_info": {
   "codemirror_mode": {
    "name": "ipython",
    "version": 2
   },
   "file_extension": ".py",
   "mimetype": "text/x-python",
   "name": "python",
   "nbconvert_exporter": "python",
   "pygments_lexer": "ipython2",
   "version": "2.7.16"
  }
 },
 "nbformat": 4,
 "nbformat_minor": 2
}
