{
 "cells": [
  {
   "cell_type": "markdown",
   "metadata": {},
   "source": [
    "# Project COBRA\n",
    "\n",
    "`Mission 01: 21 JUN 2019`"
   ]
  },
  {
   "cell_type": "markdown",
   "metadata": {},
   "source": [
    "## Setup"
   ]
  },
  {
   "cell_type": "markdown",
   "metadata": {},
   "source": [
    "1.  Download Anaconda with Python 2.7\n",
    "2.  Install:\n",
    "    * Spyder\n",
    "    * Biopython\n",
    "    * pandas"
   ]
  },
  {
   "cell_type": "markdown",
   "metadata": {},
   "source": [
    "## Programming basics"
   ]
  },
  {
   "cell_type": "markdown",
   "metadata": {},
   "source": [
    "Confirm Python installation with a print statement"
   ]
  },
  {
   "cell_type": "code",
   "execution_count": 1,
   "metadata": {},
   "outputs": [
    {
     "name": "stdout",
     "output_type": "stream",
     "text": [
      "Hello World!\n"
     ]
    }
   ],
   "source": [
    "print \"Hello World!\""
   ]
  },
  {
   "cell_type": "code",
   "execution_count": 2,
   "metadata": {},
   "outputs": [],
   "source": [
    "# TODO: Note the importance of commenting code!"
   ]
  },
  {
   "cell_type": "markdown",
   "metadata": {},
   "source": [
    "Big ideas to cover:\n",
    "1.  Variables and assignment\n",
    "2.  Data types\n",
    "    * Numbers: `int`, `float`, `Boolean`\n",
    "      * Conducting arithmetic operations: `+`, `-`, `/`, `*`, `%`\n",
    "      * Casting\n",
    "      * Making Boolean comparisons"
   ]
  },
  {
   "cell_type": "markdown",
   "metadata": {},
   "source": [
    "### String operations, with [documentation](https://docs.python.org/2.7/library/stdtypes.html#string-methods)"
   ]
  },
  {
   "cell_type": "markdown",
   "metadata": {},
   "source": [
    "Practice with string operations: `upper()` and `lower()`"
   ]
  },
  {
   "cell_type": "code",
   "execution_count": 5,
   "metadata": {},
   "outputs": [],
   "source": [
    "# Try to make this string all uppercase!\n",
    "lower_dna = \"actgactgatcgtgtgcag\""
   ]
  },
  {
   "cell_type": "code",
   "execution_count": 6,
   "metadata": {},
   "outputs": [],
   "source": [
    "# Try to make this string all lowercase!\n",
    "upper_dna = \"ACTGACTGATCGTGTGCAG\""
   ]
  },
  {
   "cell_type": "markdown",
   "metadata": {},
   "source": [
    "Practice with string operations: string equality"
   ]
  },
  {
   "cell_type": "code",
   "execution_count": 11,
   "metadata": {},
   "outputs": [],
   "source": [
    "# Are the previous two sequences identical?"
   ]
  },
  {
   "cell_type": "markdown",
   "metadata": {},
   "source": [
    "Practice with string operations: `len()`"
   ]
  },
  {
   "cell_type": "code",
   "execution_count": 8,
   "metadata": {},
   "outputs": [],
   "source": [
    "# How long are these strings of nucleotides?\n",
    "string_1 = \"AATGGCAGT\"\n",
    "string_2 = \"CAACCAACATCTCGGGTCTTGCCCAACCGGTCTACACGCTGAT\""
   ]
  },
  {
   "cell_type": "markdown",
   "metadata": {},
   "source": [
    "Practice with string operations: concatenation. Note that you can't concatenate `str` and `int` objects..."
   ]
  },
  {
   "cell_type": "code",
   "execution_count": 9,
   "metadata": {},
   "outputs": [],
   "source": [
    "# Join the following sequences in the proper order.\n",
    "# Print the final sequence and its length to the console!\n",
    "five_prime_utr = \"TGCAAGTACG\"\n",
    "three_prime_utr = \"AGTGGAAGCCGCATC\"\n",
    "translated_seq = \"TGACGGAATGCAGTAGATCCG\"\n",
    "start_codon = \"ATG\"\n",
    "stop_codon = \"TAA\""
   ]
  },
  {
   "cell_type": "markdown",
   "metadata": {},
   "source": [
    "Practice with string operations: slicing and indexing"
   ]
  },
  {
   "cell_type": "code",
   "execution_count": 10,
   "metadata": {},
   "outputs": [],
   "source": [
    "# Print the 15th nucleotide of the string from the previous exercise.\n",
    "# Print the first 5 nucleotides of the string from the previous exercise.\n",
    "# Print the final 3 nucleotides of the string from the previous exercise."
   ]
  },
  {
   "cell_type": "markdown",
   "metadata": {},
   "source": [
    "Final practice: look up documentation for `count()` and report back"
   ]
  },
  {
   "cell_type": "markdown",
   "metadata": {},
   "source": [
    "## Exercises"
   ]
  },
  {
   "cell_type": "markdown",
   "metadata": {},
   "source": [
    "Taken from [Python for Biologists](https://pythonforbiologists.com/printing-and-manipulating-text).\n",
    "\n",
    "Note: start with pseudocode!"
   ]
  },
  {
   "cell_type": "markdown",
   "metadata": {},
   "source": [
    "### Exercise 1: Calculating GC Content"
   ]
  },
  {
   "cell_type": "markdown",
   "metadata": {},
   "source": [
    "Here's a short DNA sequence:\n",
    "\n",
    "`ACTGATCGATTACGTATAGTATTTGCTATCATACATATATATCGATGCGTTCAT`\n",
    "\n",
    "Write a program that will print out the GC content of this DNA sequence. Hint: you can use normal mathematical symbols like add (+), subtract (-), multiply (*), divide (/) and parentheses to carry out calculations on numbers in Python."
   ]
  },
  {
   "cell_type": "markdown",
   "metadata": {},
   "source": [
    "### Exercise 2.1: Splicing introns, part I"
   ]
  },
  {
   "cell_type": "markdown",
   "metadata": {},
   "source": [
    "Here's a short section of genomic DNA:\n",
    "\n",
    "`ATCGATCGATCGATCGACTGACTAGTCATAGCTATGCATGTAGCTACTCGATCGATCGATCGATCGATCGATCGATCGATCGATCATGCTATCATCGATCGATATCGATGCATCGACTACTAT`\n",
    "\n",
    "It comprises two exons and an intron. The first exon runs from the start of the sequence to base number 63 (starting counting from zero), and the second exon runs from base 91 (also counting from zero) to the end of the sequence. Write a program that will print just the coding regions of the DNA sequence."
   ]
  },
  {
   "cell_type": "markdown",
   "metadata": {},
   "source": [
    "### Exercise 2.2: Splicing introns, part II"
   ]
  },
  {
   "cell_type": "markdown",
   "metadata": {},
   "source": [
    "Using the data from part one, write a program that will calculate what percentage of the DNA sequence is coding."
   ]
  },
  {
   "cell_type": "markdown",
   "metadata": {},
   "source": [
    "### Exercise 2.3: Splicing introns, part III"
   ]
  },
  {
   "cell_type": "markdown",
   "metadata": {},
   "source": [
    "Using the data from part one, write a program that will print out the original genomic DNA sequence with coding bases in uppercase and non-coding bases in lowercase."
   ]
  },
  {
   "cell_type": "markdown",
   "metadata": {},
   "source": [
    "## More programming basics"
   ]
  },
  {
   "cell_type": "markdown",
   "metadata": {},
   "source": [
    "3.  Data structures\n",
    "    * Lists, with [documentation](https://docs.python.org/2.7/tutorial/datastructures.html#more-on-lists)\n",
    "    * Tuples\n",
    "    * _Dictionaries, with [documentation](https://docs.python.org/2.7/library/stdtypes.html#mapping-types-dict)_"
   ]
  },
  {
   "cell_type": "markdown",
   "metadata": {},
   "source": [
    "4.  Loops and control\n",
    "    * `for`\n",
    "    * `if`"
   ]
  }
 ],
 "metadata": {
  "kernelspec": {
   "display_name": "Python 2",
   "language": "python",
   "name": "python2"
  },
  "language_info": {
   "codemirror_mode": {
    "name": "ipython",
    "version": 2
   },
   "file_extension": ".py",
   "mimetype": "text/x-python",
   "name": "python",
   "nbconvert_exporter": "python",
   "pygments_lexer": "ipython2",
   "version": "2.7.16"
  }
 },
 "nbformat": 4,
 "nbformat_minor": 2
}
