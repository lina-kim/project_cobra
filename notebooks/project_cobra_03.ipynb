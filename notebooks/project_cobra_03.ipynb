{
 "cells": [
  {
   "cell_type": "markdown",
   "metadata": {},
   "source": [
    "# Project COBRA\n",
    "\n",
    "`Mission 03: 29 AUG 2019`\n",
    "\n",
    "_**Topics**_: `pd.apply()`, lambda functions"
   ]
  },
  {
   "cell_type": "markdown",
   "metadata": {},
   "source": [
    "## Downloads\n",
    "* `SLATE_cassette_v1.01.txt` in Box folder\n",
    "\n",
    "## Goals\n",
    "Initial steps in the construction of the LPS 3000.\n",
    "\n",
    "Using `pandas` and `pd.apply()` [(documentation)](https://pandas.pydata.org/pandas-docs/stable/reference/api/pandas.DataFrame.apply.html):\n",
    "* Generate mutation aliases in table\n",
    "* Add mutation pool names to table\n",
    "* Modify HLA type formatting\n",
    "* Write the final results to file\n",
    "\n",
    "## Programming concepts\n",
    "1. Functions in Python, plus lambda functions\n",
    "2. `pd.apply()`"
   ]
  },
  {
   "cell_type": "code",
   "execution_count": null,
   "metadata": {},
   "outputs": [],
   "source": [
    "# TODO:\n",
    "# 1) Import the SLATE cassette.\n",
    "# 2) Create a new column in the table with aliased mutation names.\n",
    "# 3) Create a new column in the table with aliased mutation pool names.\n",
    "# 4) Modify the HLA columns to contain HLA types, a) in list format\n",
    "#    and b) in the format HLA-X*NN:NN\n",
    "# 5) Write your table to the file mod_SLATE_cassette_v1.01.txt."
   ]
  }
 ],
 "metadata": {
  "kernelspec": {
   "display_name": "Python 2",
   "language": "python",
   "name": "python2"
  },
  "language_info": {
   "codemirror_mode": {
    "name": "ipython",
    "version": 2
   },
   "file_extension": ".py",
   "mimetype": "text/x-python",
   "name": "python",
   "nbconvert_exporter": "python",
   "pygments_lexer": "ipython2",
   "version": "2.7.16"
  }
 },
 "nbformat": 4,
 "nbformat_minor": 2
}
