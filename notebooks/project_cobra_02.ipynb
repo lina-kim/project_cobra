{
 "cells": [
  {
   "cell_type": "markdown",
   "metadata": {},
   "source": [
    "# Project COBRA\n",
    "\n",
    "`Mission 02: 27 JUN 2019`\n",
    "\n",
    "_**Topics**_: Data structures, loops and control, introductory `pandas`"
   ]
  },
  {
   "cell_type": "markdown",
   "metadata": {},
   "source": [
    "## Programming concepts"
   ]
  },
  {
   "cell_type": "markdown",
   "metadata": {},
   "source": [
    "1. Data structures, part I\n",
    "   * Lists, with [documentation](https://docs.python.org/2.7/tutorial/datastructures.html#more-on-lists) and exercises below\n",
    "   * Tuples"
   ]
  },
  {
   "cell_type": "markdown",
   "metadata": {},
   "source": [
    "## Practice: Lists"
   ]
  },
  {
   "cell_type": "code",
   "execution_count": null,
   "metadata": {},
   "outputs": [],
   "source": [
    "# TODO:\n",
    "# 1. Using range(), generate a list of odd integers from 20 to 301, inclusive.\n",
    "# 2. Retrieve the 12th integer.\n",
    "# 3. Remove the 20th integer and print the sum of the list."
   ]
  },
  {
   "cell_type": "code",
   "execution_count": null,
   "metadata": {},
   "outputs": [],
   "source": [
    "# Use the following list:\n",
    "peptides = ['GHIPLPRAFQKLCRCVHSVGDICHASIMRQ',\n",
    "            'PIQYSWHLNWFEMMNIVTNCRAFGVPWVEN',\n",
    "            'SLYTMYTYIFKQFQACAMNHKWVWTSKIYT',\n",
    "            'FAFPSMNFWPTGPIIHCCRLHYFKYMPTWD',\n",
    "            'VQTLMCNVADTMCVGMTAYNMSIQKKWACW',\n",
    "            'VADFLCLILNREPKLTCWCWRIKHQWDWGK',\n",
    "            'RPEEVFKTPNYYHMQEKKGRWNYEVCTRWI',\n",
    "            'FGIADGQKYQKCINTNLPLSDLNGPEFSET',\n",
    "            'GIMTRCMAHQTFSDYDMAAIENTFHWYPYQ']\n",
    "\n",
    "# TODO:\n",
    "# 1. Add the peptide 'IFRYENCAPEDAFNQFQHLGKTKRDYARMT' and sort the list in alphabetical order.\n",
    "# 2. Remove the 3rd peptide from the list and reverse the list order.\n",
    "# 3. Count the number of methionines in the 5th sequence.\n",
    "# REMEMBER: write logic in pseudocode!"
   ]
  },
  {
   "cell_type": "markdown",
   "metadata": {},
   "source": [
    "## Programming concepts"
   ]
  },
  {
   "cell_type": "markdown",
   "metadata": {},
   "source": [
    "2. Loops and control\n",
    "   * `for`, with exercises below taken from [Python for Biologists](https://pythonforbiologists.com/lists-and-loops)\n",
    "   * `while`\n",
    "   * `if`-`else`, with exercises below\n",
    "   * touch on list comprehension"
   ]
  },
  {
   "cell_type": "code",
   "execution_count": null,
   "metadata": {},
   "outputs": [],
   "source": [
    "# Use the following list:\n",
    "input_file = ['ATTCGATTATAAGCTCGATCGATCGATCGATCGATCGATCGATCGATCGATCGATC',\n",
    "              'ATTCGATTATAAGCACTGATCGATCGATCGATCGATCGATGCTATCGTCGT',\n",
    "              'ATTCGATTATAAGCATCGATCACGATCTATCGTACGTATGCATATCGATATCGATCGTAGTC',\n",
    "              'ATTCGATTATAAGCACTATCGATGATCTAGCTACGATCGTAGCTGTA',\n",
    "              'ATTCGATTATAAGCACTAGCTAGTCTCGATGCATGATCAGCTTAGCTGATGATGCTATGCA']\n",
    "\n",
    "# TODO:\n",
    "# 1. Each sequence starts with the same 14 base pair fragment – a sequencing adapter that should have been removed. \n",
    "#    (a) trim this adapter and print the cleaned sequences\n",
    "#    (b) print the length of each sequence to the screen\n",
    "# 2. Create a new list of sequences with the following changes:\n",
    "#    (a) if the sequence ends with a pyrimidine, trim the last five bases\n",
    "#    (b) if the sequence is less than 40 bases long, repeat the last ten bases\n",
    "# 3. Conduct parts (1a) and (1b) in list comprehensions"
   ]
  },
  {
   "cell_type": "code",
   "execution_count": null,
   "metadata": {},
   "outputs": [],
   "source": [
    "# Use the following string and list:\n",
    "genomic_dna = 'TCGATCGTACCGTCGACGATGCTACGATCGTCGATCGTAGTCGATCATCGATCGATCGACTGATCGATCGATCGATCGATCGATATCGATCGATATCATCGATGCATCGATCATCGATCGATCGATCGATCGATCGATCATATGTCAGTCGATGCATCGTAGCATCGTATAGTAGCTACGTAGCTACGATCGATCGATCGATCGTAGCTAGCTAGCTAGATCGATCATCATCGTAGCTAGCTCGACTAGCTACGTACGATCGATGCATCGATCGTAGCTAGTACGATCGCGTAGCTAGCATGCTACGTAGATCGATCGATGCATGCTAGCTAGCTAGCTACGATCGATCGATCGATCGATCGATCGATCGATCGATCGATCGTAGCTAGCTACGATCGATGCTACGTAGATCGATCGCTAGTAGATCGATCGCTAGCTAGCTGACTAGTACGCTGCTAGTAGTCAGCTAGATCGATGCTAGTCA'\n",
    "exons = ['5,58',\n",
    "         '72,133',\n",
    "         '190,276',\n",
    "         '340,398']\n",
    "\n",
    "# The exons variable represents start and stop positions:\n",
    "#    - inclusive at the start\n",
    "#    - exclusive at the end\n",
    "#    - given by a biologist, they are 1-indexed\n",
    "#\n",
    "# TODO: Concatenate the exon segments and write them to a new file.\n"
   ]
  },
  {
   "cell_type": "markdown",
   "metadata": {},
   "source": [
    "## Programming concepts"
   ]
  },
  {
   "cell_type": "markdown",
   "metadata": {},
   "source": [
    "3. Intro to `pandas`, with [DataFrame documentation](https://pandas.pydata.org/pandas-docs/stable/reference/api/pandas.DataFrame.html)\n",
    "   * Reading in a CSV file\n",
    "   * Manipulating tables"
   ]
  },
  {
   "cell_type": "markdown",
   "metadata": {},
   "source": [
    "## Practice: `pandas`"
   ]
  },
  {
   "cell_type": "markdown",
   "metadata": {},
   "source": [
    "Step 1: Download the file [data.csv](https://pythonforbiologists.com/s/data.csv) and import into `pandas`. Also taken from the generous online resource [Python for Biologists](https://pythonforbiologists.com)."
   ]
  },
  {
   "cell_type": "code",
   "execution_count": null,
   "metadata": {},
   "outputs": [],
   "source": [
    "# TODO:\n",
    "# 1. Name the columns of this spreadsheet\n",
    "# 2. Print the number of rows this data file has"
   ]
  },
  {
   "cell_type": "code",
   "execution_count": null,
   "metadata": {},
   "outputs": [],
   "source": [
    "# TODO:\n",
    "# 1. Print out the gene names for all genes belonging to Drosophila melanogaster or Drosophila simulans.\n",
    "# 2. Print out the gene names for all genes between 90 and 110 bases long.\n",
    "# 3. Print out the gene names for all genes whose AT content is less than 0.5 \n",
    "#    and whose expression level is greater than 200.\n",
    "# 4. Print out the gene names for all genes whose name begins with \"k\" or \"h\" \n",
    "#    except those belonging to Drosophila melanogaster.\n",
    "# 5. For each gene, print out a message giving the gene name \n",
    "#    and saying whether its AT content is high (greater than 0.65), \n",
    "#    low (less than 0.45), or medium (between 0.45 and 0.65)."
   ]
  }
 ],
 "metadata": {
  "kernelspec": {
   "display_name": "Python 3",
   "language": "python",
   "name": "python3"
  },
  "language_info": {
   "codemirror_mode": {
    "name": "ipython",
    "version": 3
   },
   "file_extension": ".py",
   "mimetype": "text/x-python",
   "name": "python",
   "nbconvert_exporter": "python",
   "pygments_lexer": "ipython3",
   "version": "3.7.0"
  }
 },
 "nbformat": 4,
 "nbformat_minor": 2
}
