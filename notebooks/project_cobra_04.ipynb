{
 "cells": [
  {
   "cell_type": "markdown",
   "metadata": {},
   "source": [
    "# Project COBRA\n",
    "\n",
    "`Mission 04: DD MMM 2019`\n",
    "\n",
    "_**Topics**_: Data structures - dictionaries"
   ]
  },
  {
   "cell_type": "markdown",
   "metadata": {},
   "source": [
    "## Logistical notes\n",
    "* Go back to 02 with recap of list exercises\n",
    "* Cover list comprehension and touch on `while` loops"
   ]
  },
  {
   "cell_type": "markdown",
   "metadata": {},
   "source": [
    "## Programming concepts\n",
    "1) Data structures, part II\n",
    "* Tuples\n",
    "* Dictionaries, with [documentation](https://docs.python.org/2.7/library/stdtypes.html#mapping-types-dict) and exercises below\n",
    "\n",
    "## Practice: Dictionaries\n",
    "Sample exercises taken from [Python for Biologists](https://pythonforbiologists.com)."
   ]
  },
  {
   "cell_type": "code",
   "execution_count": null,
   "metadata": {},
   "outputs": [],
   "source": [
    "# Example method of saving nucleotide counts:\n",
    "dna = \"ATCGATCGATCGTACGCTGA\"\n",
    "a_count = dna.count(\"A\")\n",
    "t_count = dna.count(\"T\")\n",
    "g_count = dna.count(\"G\")\n",
    "c_count = dna.count(\"C\")\n",
    "\n",
    "# TODO: \n",
    "# 1. Use a dictionary to save frequencies of single nucleotides. Print to console.\n",
    "# 2. Use a dictionary to save frequencies of dinucleotides beginning with purines. Print to console.\n",
    "# 3. Use a dictionary to translate this sequence."
   ]
  },
  {
   "cell_type": "code",
   "execution_count": null,
   "metadata": {},
   "outputs": [],
   "source": [
    "# Copy and paste the following into your code:\n",
    "gencode = {\n",
    "    'ATA':'I', 'ATC':'I', 'ATT':'I', 'ATG':'M',\n",
    "    'ACA':'T', 'ACC':'T', 'ACG':'T', 'ACT':'T',\n",
    "    'AAC':'N', 'AAT':'N', 'AAA':'K', 'AAG':'K',\n",
    "    'AGC':'S', 'AGT':'S', 'AGA':'R', 'AGG':'R',\n",
    "    'CTA':'L', 'CTC':'L', 'CTG':'L', 'CTT':'L',\n",
    "    'CCA':'P', 'CCC':'P', 'CCG':'P', 'CCT':'P',\n",
    "    'CAC':'H', 'CAT':'H', 'CAA':'Q', 'CAG':'Q',\n",
    "    'CGA':'R', 'CGC':'R', 'CGG':'R', 'CGT':'R',\n",
    "    'GTA':'V', 'GTC':'V', 'GTG':'V', 'GTT':'V',\n",
    "    'GCA':'A', 'GCC':'A', 'GCG':'A', 'GCT':'A',\n",
    "    'GAC':'D', 'GAT':'D', 'GAA':'E', 'GAG':'E',\n",
    "    'GGA':'G', 'GGC':'G', 'GGG':'G', 'GGT':'G',\n",
    "    'TCA':'S', 'TCC':'S', 'TCG':'S', 'TCT':'S',\n",
    "    'TTC':'F', 'TTT':'F', 'TTA':'L', 'TTG':'L',\n",
    "    'TAC':'Y', 'TAT':'Y', 'TAA':'_', 'TAG':'_',\n",
    "    'TGC':'C', 'TGT':'C', 'TGA':'_', 'TGG':'W'}\n",
    "\n",
    "# TODO:\n",
    "# Use this dictionary to translate the following DNA sequences into protein.\n",
    "# Hint: If need be, use setdefault().\n",
    "seq1 = 'ggagagggtaatgaagggttctagcgaaagtcctgtgcgcccctggcagctgatttttccatttcgcaatgaacctacgacacgtaccgagcatcttccccaccgttcgcatcaataaatgataaagaagggcgccaactaatcggcaggaatctccggaagcaatgcgccatgcgtgagtttttaggcccttctattgg'\n",
    "seq2 = 'cttagatccggcactacttctagcaagtgtcagaagggtcatggtgactcgcgggcgaaagcattgaataaagtgggccccttgcggacgccttggttgcccgtgatatgtatcatgtcaagccgtgcccctgtgtatatagatcgtttatccgtagaacccgttacaaacgtaagtgtgttttcgagagcgttactggc'\n",
    "seq3 = 'aggttggccgatacggccccgatcttacattacgcacaacgcgagttttccgagcgagaccgaacggctaggcactcgatttgggacaacagaactccagcgccccgtgcttacgtctataagggtaatcagctgtaagtagtccactgatacgcggggcaattctatgacacaccggaattacctacttccaggacagc'\n",
    "\n"
   ]
  },
  {
   "cell_type": "markdown",
   "metadata": {},
   "source": [
    "## Practice: Dictionaries and `pandas`\n",
    "Step 1: Read in the file `sample_epitopes_03.csv`."
   ]
  },
  {
   "cell_type": "code",
   "execution_count": null,
   "metadata": {},
   "outputs": [],
   "source": [
    "# TODO: Rename the header with simplified HLA typing (e.g. A0201 instead of HLA-A*02:01) \n",
    "#       and write to the file `sample_epitopes_03_rewrite.csv`"
   ]
  }
 ],
 "metadata": {
  "kernelspec": {
   "display_name": "Python 2",
   "language": "python",
   "name": "python2"
  },
  "language_info": {
   "codemirror_mode": {
    "name": "ipython",
    "version": 2
   },
   "file_extension": ".py",
   "mimetype": "text/x-python",
   "name": "python",
   "nbconvert_exporter": "python",
   "pygments_lexer": "ipython2",
   "version": "2.7.16"
  }
 },
 "nbformat": 4,
 "nbformat_minor": 2
}
